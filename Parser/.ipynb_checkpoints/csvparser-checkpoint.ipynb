{
 "cells": [
  {
   "cell_type": "code",
   "execution_count": 1,
   "metadata": {},
   "outputs": [],
   "source": [
    "import pandas as pd"
   ]
  },
  {
   "cell_type": "code",
   "execution_count": 2,
   "metadata": {},
   "outputs": [],
   "source": [
    "def concat_file(files):\n",
    "    lfs = []\n",
    "    for path in files:\n",
    "        lfs.append(pd.read_csv(\"Data/\"+path, skipinitialspace=True, nrows=500))\n",
    "    return pd.concat(lfs)"
   ]
  },
  {
   "cell_type": "code",
   "execution_count": 3,
   "metadata": {},
   "outputs": [],
   "source": [
    "def create_csv(data_frame, file_name, rules = {}):\n",
    "    for  rule,attributes in rules.items():\n",
    "        for attribute in attributes:\n",
    "            data_frame[attribute] = data_frame[attribute].map(rule)\n",
    "    data_frame.to_csv(\"Csv_to_database/\"+file_name)"
   ]
  },
  {
   "cell_type": "code",
   "execution_count": 4,
   "metadata": {},
   "outputs": [],
   "source": [
    "listingsFiles = [\"barcelona_listings.csv\",\"berlin_listings_filtered.csv\",\"madrid_listings_filtered.csv\"]\n",
    "listings = concat_file(listingsFiles).rename(columns={\n",
    "    'host_id':'user_id',\n",
    "    'host_name':'user_name'}).set_index('id')"
   ]
  },
  {
   "cell_type": "code",
   "execution_count": 5,
   "metadata": {},
   "outputs": [],
   "source": [
    "calendarFiles = [\"barcelona_calendar.csv\",\"berlin_calendar.csv\",\"madrid_calendar.csv\"]\n",
    "calendars = concat_file(calendarFiles).set_index('listing_id')"
   ]
  },
  {
   "cell_type": "code",
   "execution_count": 6,
   "metadata": {},
   "outputs": [],
   "source": [
    "reviewsFiles = [\"barcelona_reviews.csv\",\"berlin_reviews.csv\",\"madrid_reviews.csv\"]\n",
    "reviews = concat_file(reviewsFiles).rename(columns={\n",
    "    'reviewer_id':'user_id',\n",
    "    'reviewer_name':'user_name'}).set_index('id')"
   ]
  },
  {
   "cell_type": "code",
   "execution_count": 7,
   "metadata": {},
   "outputs": [],
   "source": [
    "users = []\n",
    "users.append(reviews[['user_id', 'user_name']])\n",
    "users.append(listings[['user_id', 'user_name']])\n",
    "users = pd.concat(users).drop_duplicates()\n",
    "users = users.set_index('user_id')"
   ]
  },
  {
   "cell_type": "code",
   "execution_count": null,
   "metadata": {},
   "outputs": [],
   "source": []
  },
  {
   "cell_type": "code",
   "execution_count": 8,
   "metadata": {},
   "outputs": [],
   "source": [
    "att_columns = ['neighbourhood', 'city', 'country_code', 'country']\n",
    "# Selects columns from listings which appears in att_columns \n",
    "neighbourhood = listings[att_columns]\n",
    "# Deletes duplicated rows\n",
    "neighbourhood = neighbourhood[~neighbourhood.index.duplicated(keep='first')]\n",
    "# write new csv file\n",
    "create_csv(neighbourhood, \"neighbourhood.csv\")"
   ]
  },
  {
   "cell_type": "code",
   "execution_count": 9,
   "metadata": {},
   "outputs": [],
   "source": [
    "att_columns = ['date', 'available', 'price']\n",
    "# Selects columns from listings which appears in att_columns \n",
    "calendar = calendars[att_columns]\n",
    "calendar.dropna(inplace=True)\n",
    "calendar['price'] = calendar['price'].replace( '[\\$,.)]','', regex=True ).astype(int)\n",
    "create_csv(calendar, \"calendar.csv\")"
   ]
  },
  {
   "cell_type": "code",
   "execution_count": 10,
   "metadata": {},
   "outputs": [],
   "source": [
    "def concat_str(x):\n",
    "    return str(x)[:3999]"
   ]
  },
  {
   "cell_type": "code",
   "execution_count": 11,
   "metadata": {},
   "outputs": [],
   "source": [
    "att_columns = ['neighbourhood', 'listing_url', 'name', 'summary', 'space']\n",
    "listing = listings[att_columns]\n",
    "create_csv(listing, \"listing.csv\")"
   ]
  },
  {
   "cell_type": "code",
   "execution_count": 12,
   "metadata": {},
   "outputs": [],
   "source": [
    "att_columns = ['description', 'neighborhood_overview', 'notes', 'transit', 'access','interaction','house_rules','picture_url','latitude','longitude']\n",
    "listing = listings[att_columns]\n",
    "create_csv(listing, \"Listing_descr.csv\")"
   ]
  },
  {
   "cell_type": "code",
   "execution_count": 13,
   "metadata": {},
   "outputs": [],
   "source": [
    "att_columns = ['property_type', 'room_type', 'accommodates', 'bathrooms', 'bedrooms','beds','bed_type','amenities','square_feet']\n",
    "listing = listings[att_columns]\n",
    "create_csv(listing, \"Listing_detail.csv\")"
   ]
  },
  {
   "cell_type": "code",
   "execution_count": 14,
   "metadata": {},
   "outputs": [],
   "source": [
    "att_columns = ['price', 'weekly_price', 'monthly_price', 'security_deposit', 'cleaning_fee','guests_included','extra_people']\n",
    "listing = listings[att_columns]\n",
    "listing = listing.applymap(lambda x: \"$-1\" if pd.isna(x) else x)\n",
    "for att in att_columns:\n",
    "    listing[att] = listing[att].replace( '[\\$,.)]','', regex=True ).astype(int)\n",
    "create_csv(listing, \"Listing_price.csv\")"
   ]
  },
  {
   "cell_type": "code",
   "execution_count": 15,
   "metadata": {},
   "outputs": [
    {
     "name": "stderr",
     "output_type": "stream",
     "text": [
      "/anaconda3/lib/python3.6/site-packages/ipykernel_launcher.py:3: SettingWithCopyWarning: \n",
      "A value is trying to be set on a copy of a slice from a DataFrame\n",
      "\n",
      "See the caveats in the documentation: http://pandas.pydata.org/pandas-docs/stable/indexing.html#indexing-view-versus-copy\n",
      "  This is separate from the ipykernel package so we can avoid doing imports until\n"
     ]
    }
   ],
   "source": [
    "att_columns = ['review_scores_rating', 'review_scores_accuracy', 'review_scores_cleanliness', 'review_scores_checkin', 'review_scores_communication','review_scores_location','review_scores_value']\n",
    "listing = listings[att_columns]\n",
    "listing.dropna(inplace=True)\n",
    "create_csv(listing, \"Listing_score.csv\")"
   ]
  },
  {
   "cell_type": "code",
   "execution_count": 16,
   "metadata": {},
   "outputs": [],
   "source": [
    "att_columns = ['minimum_nights', 'maximum_nights', 'is_business_travel_ready', 'cancellation_policy', 'require_guest_profile_picture','require_guest_phone_verification']\n",
    "listing = listings[att_columns]\n",
    "create_csv(listing, \"Listing_cond.csv\")"
   ]
  },
  {
   "cell_type": "code",
   "execution_count": 17,
   "metadata": {},
   "outputs": [],
   "source": [
    "create_csv(users, \"Airbnb_user.csv\")"
   ]
  },
  {
   "cell_type": "code",
   "execution_count": 18,
   "metadata": {},
   "outputs": [],
   "source": [
    "att_columns = ['user_id', 'host_url', 'host_since', 'host_about', 'host_response_time', 'host_response_rate','host_thumbnail_url','host_picture_url','host_neighbourhood']\n",
    "listing = listings[att_columns]\n",
    "listing = listing.set_index('user_id')\n",
    "listing = listing[~listing.index.duplicated(keep='first')]\n",
    "create_csv(listing, \"Host.csv\", { concat_str: ['host_about']})"
   ]
  },
  {
   "cell_type": "code",
   "execution_count": 19,
   "metadata": {},
   "outputs": [],
   "source": [
    "att_columns = ['listing_id', 'user_id', 'date', 'comments']\n",
    "review = reviews[att_columns]\n",
    "create_csv(review,\"Review.csv\")"
   ]
  }
 ],
 "metadata": {
  "kernelspec": {
   "display_name": "Python 3",
   "language": "python",
   "name": "python3"
  },
  "language_info": {
   "codemirror_mode": {
    "name": "ipython",
    "version": 3
   },
   "file_extension": ".py",
   "mimetype": "text/x-python",
   "name": "python",
   "nbconvert_exporter": "python",
   "pygments_lexer": "ipython3",
   "version": "3.6.5"
  }
 },
 "nbformat": 4,
 "nbformat_minor": 2
}
