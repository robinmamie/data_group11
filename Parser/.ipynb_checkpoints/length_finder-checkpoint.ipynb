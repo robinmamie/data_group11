{
 "cells": [
  {
   "cell_type": "code",
   "execution_count": 2,
   "metadata": {},
   "outputs": [],
   "source": [
    "import pandas as pd\n",
    "import numpy as np"
   ]
  },
  {
   "cell_type": "code",
   "execution_count": 3,
   "metadata": {},
   "outputs": [],
   "source": [
    "def length(x):\n",
    "    y = str(x)\n",
    "    return len(y)"
   ]
  },
  {
   "cell_type": "code",
   "execution_count": 12,
   "metadata": {},
   "outputs": [],
   "source": [
    "def find_lengths(listing, display=False): \n",
    "    res = []\n",
    "    df = pd.read_csv(listing)\n",
    "    for name in df.columns:\n",
    "        saved_column = getattr(df, name)\n",
    "        if type(saved_column[2]) is str:\n",
    "            if (display):\n",
    "                print(name, \" : \", max(saved_column, key=length))\n",
    "            res.append((name, saved_column.count() ,(len(max(saved_column, key=length)))))\n",
    "        \n",
    "    return res"
   ]
  },
  {
   "cell_type": "code",
   "execution_count": 13,
   "metadata": {},
   "outputs": [],
   "source": [
    "res = []\n",
    "listings= ['barcelona_listings.csv',\n",
    "          'madrid_listings_filtered.csv',\n",
    "          'berlin_listings_filtered.csv']\n",
    "\n",
    "\n",
    "for listing in listings:\n",
    "    lengths = find_lengths(listing, False)\n",
    "    res.append(lengths)"
   ]
  },
  {
   "cell_type": "code",
   "execution_count": 32,
   "metadata": {},
   "outputs": [],
   "source": [
    "lengths_dict = {}\n",
    "\n",
    "for tab in res:\n",
    "    for (name, count, length) in tab:\n",
    "        actual_length , actual_count = lengths_dict.get(name, (0,-1))\n",
    "        lengths_dict[name] = (max(actual_length, length), actual_count + count)\n",
    "        \n",
    "line_numbers = (max([v for (k,v) in lengths_dict.values()]))\n",
    "\n",
    "for key in lengths_dict.keys():\n",
    "    actual_length , actual_count = lengths_dict.get(key, (0,0))\n",
    "    lengths_dict[key] = (actual_length, actual_count / line_numbers)"
   ]
  },
  {
   "cell_type": "code",
   "execution_count": 35,
   "metadata": {},
   "outputs": [
    {
     "name": "stdout",
     "output_type": "stream",
     "text": [
      "listing_url  has length  37 and appears in  100.0 % of the lines\n",
      "name  has length  138 and appears in  99.86220986862423 % of the lines\n",
      "summary  has length  1000 and appears in  96.3224289074193 % of the lines\n",
      "space  has length  1000 and appears in  70.09241441569857 % of the lines\n",
      "description  has length  1000 and appears in  99.20651889862923 % of the lines\n",
      "neighborhood_overview  has length  1000 and appears in  60.551635663887104 % of the lines\n",
      "notes  has length  1000 and appears in  44.16886418169292 % of the lines\n",
      "transit  has length  1000 and appears in  61.34274107333761 % of the lines\n",
      "access  has length  1000 and appears in  54.86898059059702 % of the lines\n",
      "interaction  has length  1000 and appears in  53.33428361010144 % of the lines\n",
      "house_rules  has length  1000 and appears in  60.1905304920058 % of the lines\n",
      "picture_url  has length  116 and appears in  100.0 % of the lines\n",
      "host_url  has length  43 and appears in  100.0 % of the lines\n",
      "host_name  has length  35 and appears in  100.0 % of the lines\n",
      "host_since  has length  10 and appears in  100.0 % of the lines\n",
      "host_about  has length  12774 and appears in  59.46832014824318 % of the lines\n",
      "host_response_time  has length  18 and appears in  57.43947924833107 % of the lines\n",
      "host_response_rate  has length  4 and appears in  57.43947924833107 % of the lines\n",
      "host_thumbnail_url  has length  106 and appears in  100.0 % of the lines\n",
      "host_picture_url  has length  109 and appears in  100.0 % of the lines\n",
      "host_neighbourhood  has length  31 and appears in  100.0 % of the lines\n",
      "host_verifications  has length  168 and appears in  100.0 % of the lines\n",
      "neighbourhood  has length  31 and appears in  100.0 % of the lines\n",
      "city  has length  34 and appears in  99.98574584847837 % of the lines\n",
      "country_code  has length  2 and appears in  100.0 % of the lines\n",
      "country  has length  7 and appears in  100.0 % of the lines\n",
      "property_type  has length  22 and appears in  100.0 % of the lines\n",
      "room_type  has length  15 and appears in  100.0 % of the lines\n",
      "bed_type  has length  13 and appears in  100.0 % of the lines\n",
      "amenities  has length  1388 and appears in  100.0 % of the lines\n",
      "price  has length  10 and appears in  100.0 % of the lines\n",
      "security_deposit  has length  9 and appears in  67.70009265198489 % of the lines\n",
      "extra_people  has length  7 and appears in  100.0 % of the lines\n",
      "is_business_travel_ready  has length  1 and appears in  100.0 % of the lines\n",
      "cancellation_policy  has length  27 and appears in  100.0 % of the lines\n",
      "require_guest_profile_picture  has length  1 and appears in  100.0 % of the lines\n",
      "require_guest_phone_verification  has length  1 and appears in  100.0 % of the lines\n",
      "weekly_price  has length  9 and appears in  11.032713277742143 % of the lines\n",
      "monthly_price  has length  10 and appears in  8.989618226308412 % of the lines\n",
      "cleaning_fee  has length  7 and appears in  50.45256931081178 % of the lines\n"
     ]
    }
   ],
   "source": [
    "for key in lengths_dict.keys():\n",
    "    actual_length , actual_count = lengths_dict.get(key, (0,0))\n",
    "    print(key, \" has length \", actual_length, \"and appears in \", actual_count*100, \"% of the lines\")\n"
   ]
  }
 ],
 "metadata": {
  "kernelspec": {
   "display_name": "Python 3",
   "language": "python",
   "name": "python3"
  },
  "language_info": {
   "codemirror_mode": {
    "name": "ipython",
    "version": 3
   },
   "file_extension": ".py",
   "mimetype": "text/x-python",
   "name": "python",
   "nbconvert_exporter": "python",
   "pygments_lexer": "ipython3",
   "version": "3.6.5"
  }
 },
 "nbformat": 4,
 "nbformat_minor": 2
}
