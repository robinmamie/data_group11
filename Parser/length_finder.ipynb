{
 "cells": [
  {
   "cell_type": "code",
   "execution_count": 1,
   "metadata": {},
   "outputs": [],
   "source": [
    "import pandas as pd\n",
    "import numpy as np"
   ]
  },
  {
   "cell_type": "code",
   "execution_count": 2,
   "metadata": {},
   "outputs": [],
   "source": [
    "def length(x):\n",
    "    y = str(x)\n",
    "    return len(y)"
   ]
  },
  {
   "cell_type": "code",
   "execution_count": 3,
   "metadata": {},
   "outputs": [],
   "source": [
    "def find_lengths(listing, display=False): \n",
    "    res = []\n",
    "    df = pd.read_csv(listing)\n",
    "    for name in df.columns:\n",
    "        saved_column = getattr(df, name)\n",
    "        if type(saved_column[2]) is str:\n",
    "            if (display):\n",
    "                print(name, \" : \", max(saved_column, key=length))\n",
    "            res.append((name, saved_column.count() ,(len(max(saved_column, key=length)))))\n",
    "        \n",
    "    return res"
   ]
  },
  {
   "cell_type": "code",
   "execution_count": 5,
   "metadata": {},
   "outputs": [],
   "source": [
    "res = []\n",
    "listings= ['Data/barcelona_listings.csv',\n",
    "          'Data/madrid_listings_filtered.csv',\n",
    "          'Data/berlin_listings_filtered.csv']\n",
    "\n",
    "\n",
    "for listing in listings:\n",
    "    lengths = find_lengths(listing, False)\n",
    "    res.append(lengths)"
   ]
  },
  {
   "cell_type": "code",
   "execution_count": 7,
   "metadata": {},
   "outputs": [
    {
     "name": "stdout",
     "output_type": "stream",
     "text": [
      "4\n"
     ]
    }
   ],
   "source": [
    "df = pd.read_csv('Data/barcelona_listings.csv')\n",
    "about = df['host_about'].tolist()\n",
    "about = list(map(lambda x : length(x), about))\n",
    "about = sorted(about)\n",
    "about = np.array(about)\n",
    "print(np.sum(about > 4000))"
   ]
  },
  {
   "cell_type": "code",
   "execution_count": 8,
   "metadata": {},
   "outputs": [],
   "source": [
    "lengths_dict = {}\n",
    "\n",
    "for tab in res:\n",
    "    for (name, count, length) in tab:\n",
    "        actual_length , actual_count = lengths_dict.get(name, (0,-1))\n",
    "        lengths_dict[name] = (max(actual_length, length), actual_count + count)\n",
    "        \n",
    "line_numbers = (max([v for (k,v) in lengths_dict.values()]))\n",
    "\n",
    "for key in lengths_dict.keys():\n",
    "    actual_length , actual_count = lengths_dict.get(key, (0,0))\n",
    "    lengths_dict[key] = (actual_length, actual_count / line_numbers)"
   ]
  },
  {
   "cell_type": "code",
   "execution_count": 9,
   "metadata": {},
   "outputs": [
    {
     "name": "stdout",
     "output_type": "stream",
     "text": [
      "listing_url |   length :  37  | occurences :  100.00 %\n",
      "name |   length :  138  | occurences :  99.86 %\n",
      "summary |   length :  1000  | occurences :  96.32 %\n",
      "space |   length :  1000  | occurences :  70.09 %\n",
      "description |   length :  1000  | occurences :  99.21 %\n",
      "neighborhood_overview |   length :  1000  | occurences :  60.55 %\n",
      "notes |   length :  1000  | occurences :  44.17 %\n",
      "transit |   length :  1000  | occurences :  61.34 %\n",
      "access |   length :  1000  | occurences :  54.87 %\n",
      "interaction |   length :  1000  | occurences :  53.33 %\n",
      "house_rules |   length :  1000  | occurences :  60.19 %\n",
      "picture_url |   length :  116  | occurences :  100.00 %\n",
      "host_url |   length :  43  | occurences :  100.00 %\n",
      "host_name |   length :  35  | occurences :  100.00 %\n",
      "host_since |   length :  10  | occurences :  100.00 %\n",
      "host_about |   length :  12774  | occurences :  59.47 %\n",
      "host_response_time |   length :  18  | occurences :  57.44 %\n",
      "host_response_rate |   length :  4  | occurences :  57.44 %\n",
      "host_thumbnail_url |   length :  106  | occurences :  100.00 %\n",
      "host_picture_url |   length :  109  | occurences :  100.00 %\n",
      "host_neighbourhood |   length :  31  | occurences :  100.00 %\n",
      "host_verifications |   length :  168  | occurences :  100.00 %\n",
      "neighbourhood |   length :  31  | occurences :  100.00 %\n",
      "city |   length :  34  | occurences :  99.99 %\n",
      "country_code |   length :  2  | occurences :  100.00 %\n",
      "country |   length :  7  | occurences :  100.00 %\n",
      "property_type |   length :  22  | occurences :  100.00 %\n",
      "room_type |   length :  15  | occurences :  100.00 %\n",
      "bed_type |   length :  13  | occurences :  100.00 %\n",
      "amenities |   length :  1388  | occurences :  100.00 %\n",
      "price |   length :  10  | occurences :  100.00 %\n",
      "security_deposit |   length :  9  | occurences :  67.70 %\n",
      "extra_people |   length :  7  | occurences :  100.00 %\n",
      "is_business_travel_ready |   length :  1  | occurences :  100.00 %\n",
      "cancellation_policy |   length :  27  | occurences :  100.00 %\n",
      "require_guest_profile_picture |   length :  1  | occurences :  100.00 %\n",
      "require_guest_phone_verification |   length :  1  | occurences :  100.00 %\n",
      "weekly_price |   length :  9  | occurences :  11.03 %\n",
      "monthly_price |   length :  10  | occurences :  8.99 %\n",
      "cleaning_fee |   length :  7  | occurences :  50.45 %\n"
     ]
    }
   ],
   "source": [
    "for key in lengths_dict.keys():\n",
    "    actual_length , actual_count = lengths_dict.get(key, (0,0))\n",
    "    print(key, \"|   length : \", actual_length, \" | occurences : \",\"%.2f\" % (actual_count*100), \"%\")\n"
   ]
  }
 ],
 "metadata": {
  "kernelspec": {
   "display_name": "Python 3",
   "language": "python",
   "name": "python3"
  },
  "language_info": {
   "codemirror_mode": {
    "name": "ipython",
    "version": 3
   },
   "file_extension": ".py",
   "mimetype": "text/x-python",
   "name": "python",
   "nbconvert_exporter": "python",
   "pygments_lexer": "ipython3",
   "version": "3.6.5"
  }
 },
 "nbformat": 4,
 "nbformat_minor": 2
}
