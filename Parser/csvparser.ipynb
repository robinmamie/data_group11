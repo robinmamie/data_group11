{
 "cells": [
  {
   "cell_type": "markdown",
   "metadata": {},
   "source": [
    "## Imports"
   ]
  },
  {
   "cell_type": "code",
   "execution_count": 1,
   "metadata": {},
   "outputs": [],
   "source": [
    "import pandas as pd"
   ]
  },
  {
   "cell_type": "code",
   "execution_count": 3,
   "metadata": {},
   "outputs": [],
   "source": [
    "def create_csv(data_frame, file_name, rules = {}):\n",
    "    for  rule,attributes in rules.items():\n",
    "        for attribute in attributes:\n",
    "            data_frame[attribute] = data_frame[attribute].map(rule)\n",
    "    data_frame.to_csv(\"Csv_to_database/\"+file_name)"
   ]
  },
  {
   "cell_type": "markdown",
   "metadata": {},
   "source": [
    "## Creating principal Dataframes"
   ]
  },
  {
   "cell_type": "code",
   "execution_count": 27,
   "metadata": {},
   "outputs": [],
   "source": [
    "def concat_file(files):\n",
    "    lfs = []\n",
    "    for path in files:\n",
    "        dataframe = pd.read_csv(\"Data/\"+path, skipinitialspace=True, nrows=500)\n",
    "        if \"listing\" in path :\n",
    "            city_name = path.split('_')[0].capitalize()\n",
    "            dataframe['city'] = city_name\n",
    "        lfs.append(dataframe)\n",
    "    return pd.concat(lfs)"
   ]
  },
  {
   "cell_type": "code",
   "execution_count": 119,
   "metadata": {},
   "outputs": [],
   "source": [
    "listingsFiles = [\"barcelona_listings.csv\",\"berlin_listings_filtered.csv\",\"madrid_listings_filtered.csv\"]\n",
    "listings = concat_file(listingsFiles).rename(columns={\n",
    "    'host_id':'user_id',\n",
    "    'host_name':'user_name'}).set_index('id')\n",
    "listings.fillna('', inplace=True)\n"
   ]
  },
  {
   "cell_type": "code",
   "execution_count": 5,
   "metadata": {},
   "outputs": [],
   "source": [
    "calendarFiles = [\"barcelona_calendar.csv\",\"berlin_calendar.csv\",\"madrid_calendar.csv\"]\n",
    "calendars = concat_file(calendarFiles).set_index('listing_id')"
   ]
  },
  {
   "cell_type": "code",
   "execution_count": 6,
   "metadata": {},
   "outputs": [],
   "source": [
    "reviewsFiles = [\"barcelona_reviews.csv\",\"berlin_reviews.csv\",\"madrid_reviews.csv\"]\n",
    "reviews = concat_file(reviewsFiles).rename(columns={\n",
    "    'reviewer_id':'user_id',\n",
    "    'reviewer_name':'user_name'}).set_index('id')"
   ]
  },
  {
   "cell_type": "code",
   "execution_count": 7,
   "metadata": {},
   "outputs": [],
   "source": [
    "users = []\n",
    "users.append(reviews[['user_id', 'user_name']])\n",
    "users.append(listings[['user_id', 'user_name']])\n",
    "users = pd.concat(users).drop_duplicates()\n",
    "users = users.set_index('user_id')"
   ]
  },
  {
   "cell_type": "markdown",
   "metadata": {},
   "source": [
    "## Normalize columns\n",
    "Please run once this part otherwise the result will be wrong"
   ]
  },
  {
   "cell_type": "code",
   "execution_count": 104,
   "metadata": {},
   "outputs": [],
   "source": [
    "def find_normal_values(dataframe, attribute):\n",
    "    df = dataframe[attribute]\n",
    "    df = df.drop_duplicates()\n",
    "    df = df.dropna()\n",
    "    df.index = range(len(df))\n",
    "    values = df.to_dict()\n",
    "    values = {v: k for k, v in values.items()}\n",
    "    return values, df"
   ]
  },
  {
   "cell_type": "code",
   "execution_count": 9,
   "metadata": {},
   "outputs": [],
   "source": [
    "def normalize_value(val, normalized_values):\n",
    "    if (val == ''):\n",
    "        return val\n",
    "    return normalized_values[val]"
   ]
  },
  {
   "cell_type": "code",
   "execution_count": 106,
   "metadata": {},
   "outputs": [],
   "source": [
    "def create_normalized_value(dataframe, attribute):\n",
    "    normalized_values, normal_entity = find_normal_values(dataframe, attribute)\n",
    "    create_csv(normal_entity, attribute+\".csv\")\n",
    "    return dataframe[attribute].apply(normalize_value, normalized_values = normalized_values)    "
   ]
  },
  {
   "cell_type": "code",
   "execution_count": 109,
   "metadata": {},
   "outputs": [],
   "source": [
    "to_normalize_attributes = ['host_response_time','room_type',\n",
    "                           'bed_type', 'cancellation_policy', 'neighbourhood']\n",
    "for att in to_normalize_attributes:\n",
    "    listings[att] = create_normalized_value(listings, att)"
   ]
  },
  {
   "cell_type": "code",
   "execution_count": 121,
   "metadata": {},
   "outputs": [],
   "source": [
    "city_attributes = ['city', 'country', 'country_code']\n",
    "df = listings[city_attributes]\n",
    "df = df.drop_duplicates()\n",
    "df = df.dropna()\n",
    "df.index = range(len(df))\n",
    "values = df[df.columns[0]].to_dict()\n",
    "values = {v: k for k, v in values.items()}\n",
    "create_csv(df, city_attributes[0]+\".csv\")\n",
    "listings[city_attributes[0]] =listings[city_attributes[0]].apply(normalize_value, normalized_values = values) \n",
    "listings = listings.drop(columns=city_attributes[1:])"
   ]
  },
  {
   "cell_type": "code",
   "execution_count": 123,
   "metadata": {
    "collapsed": true
   },
   "outputs": [
    {
     "data": {
      "text/plain": [
       "id\n",
       "18666       0\n",
       "18674       0\n",
       "21605       0\n",
       "25786       0\n",
       "31377       0\n",
       "31380       0\n",
       "31823       0\n",
       "31958       0\n",
       "26033978    0\n",
       "32471       0\n",
       "32711       0\n",
       "32868       0\n",
       "34981       0\n",
       "35379       0\n",
       "35388       0\n",
       "35390       0\n",
       "35392       0\n",
       "36763       0\n",
       "40983       0\n",
       "46153       0\n",
       "49213       0\n",
       "49968       0\n",
       "50066       0\n",
       "58512       0\n",
       "61444       0\n",
       "6464311     0\n",
       "66037       0\n",
       "67065       0\n",
       "68547       0\n",
       "70099       0\n",
       "           ..\n",
       "846558      2\n",
       "847252      2\n",
       "847273      2\n",
       "1003602     2\n",
       "848480      2\n",
       "849939      2\n",
       "852607      2\n",
       "852623      2\n",
       "852636      2\n",
       "852654      2\n",
       "852660      2\n",
       "853804      2\n",
       "855155      2\n",
       "856669      2\n",
       "859800      2\n",
       "861590      2\n",
       "862462      2\n",
       "862752      2\n",
       "864488      2\n",
       "26379046    2\n",
       "867089      2\n",
       "867286      2\n",
       "867629      2\n",
       "868776      2\n",
       "869276      2\n",
       "869674      2\n",
       "870153      2\n",
       "870704      2\n",
       "870964      2\n",
       "871387      2\n",
       "Name: city, Length: 1500, dtype: int64"
      ]
     },
     "execution_count": 123,
     "metadata": {},
     "output_type": "execute_result"
    }
   ],
   "source": [
    "listings['city']"
   ]
  },
  {
   "cell_type": "code",
   "execution_count": 125,
   "metadata": {},
   "outputs": [],
   "source": [
    "create_csv(listings,\"listings_temp.csv\")"
   ]
  },
  {
   "cell_type": "code",
   "execution_count": 12,
   "metadata": {},
   "outputs": [],
   "source": [
    "att_columns = ['date', 'available', 'price']\n",
    "# Selects columns from listings which appears in att_columns \n",
    "calendar = calendars[att_columns]\n",
    "calendar.dropna(inplace=True)\n",
    "calendar['price'] = calendar['price'].replace( '[\\$,.)]','', regex=True ).astype(int)\n",
    "create_csv(calendar, \"calendar.csv\")"
   ]
  },
  {
   "cell_type": "code",
   "execution_count": 14,
   "metadata": {},
   "outputs": [],
   "source": [
    "att_columns = ['neighbourhood', 'listing_url', 'name', 'summary', 'space']\n",
    "listing = listings[att_columns]\n",
    "create_csv(listing, \"listing.csv\")"
   ]
  },
  {
   "cell_type": "code",
   "execution_count": 15,
   "metadata": {},
   "outputs": [],
   "source": [
    "att_columns = ['description', 'neighborhood_overview', 'notes', 'transit', 'access','interaction','house_rules','picture_url','latitude','longitude']\n",
    "listing = listings[att_columns]\n",
    "create_csv(listing, \"Listing_descr.csv\")"
   ]
  },
  {
   "cell_type": "code",
   "execution_count": 16,
   "metadata": {},
   "outputs": [],
   "source": [
    "att_columns = ['property_type', 'room_type', 'accommodates', 'bathrooms', 'bedrooms','beds','bed_type','amenities','square_feet']\n",
    "listing = listings[att_columns]\n",
    "create_csv(listing, \"Listing_detail.csv\")"
   ]
  },
  {
   "cell_type": "code",
   "execution_count": 13,
   "metadata": {},
   "outputs": [],
   "source": [
    "def concat_str(x):\n",
    "    return str(x)[:3999]"
   ]
  },
  {
   "cell_type": "code",
   "execution_count": 19,
   "metadata": {},
   "outputs": [],
   "source": [
    "def convert_currency(val):\n",
    "    if (val == ''):\n",
    "        return val\n",
    "    new_val =  str(val).replace(',','').replace('$', '')\n",
    "    return float(new_val)"
   ]
  },
  {
   "cell_type": "code",
   "execution_count": 20,
   "metadata": {},
   "outputs": [],
   "source": [
    "def convert_percentage(val):\n",
    "    if (val == ''):\n",
    "        return val\n",
    "    new_val =  str(val).replace('%','')\n",
    "    return int(new_val)"
   ]
  },
  {
   "cell_type": "code",
   "execution_count": 21,
   "metadata": {},
   "outputs": [],
   "source": [
    "def apply_conversion(dataframe, attributes, function):\n",
    "    for att in attributes:\n",
    "        dataframe[att] = dataframe[att].apply(function)\n",
    "    return dataframe"
   ]
  },
  {
   "cell_type": "code",
   "execution_count": 22,
   "metadata": {},
   "outputs": [],
   "source": [
    "listings['host_response_rate'] = listings['host_response_rate'].apply(convert_percentage)"
   ]
  },
  {
   "cell_type": "code",
   "execution_count": 23,
   "metadata": {},
   "outputs": [],
   "source": [
    "prices = ['price', 'weekly_price', 'monthly_price', 'security_deposit', 'cleaning_fee','extra_people']\n",
    "for att in prices:\n",
    "    listings[att] = listings[att].apply(convert_currency)"
   ]
  },
  {
   "cell_type": "code",
   "execution_count": 18,
   "metadata": {},
   "outputs": [],
   "source": [
    "listings['host_about'] = listings['host_about'].apply(concat_str)"
   ]
  },
  {
   "cell_type": "code",
   "execution_count": 25,
   "metadata": {},
   "outputs": [],
   "source": [
    "create_csv(listings, \"listings_test.csv\")"
   ]
  },
  {
   "cell_type": "code",
   "execution_count": null,
   "metadata": {},
   "outputs": [],
   "source": [
    "att_columns = ['review_scores_rating', 'review_scores_accuracy', 'review_scores_cleanliness', 'review_scores_checkin', 'review_scores_communication','review_scores_location','review_scores_value']\n",
    "listing = listings[att_columns]\n",
    "listing.dropna(inplace=True)\n",
    "create_csv(listing, \"Listing_score.csv\")"
   ]
  },
  {
   "cell_type": "code",
   "execution_count": null,
   "metadata": {},
   "outputs": [],
   "source": [
    "att_columns = ['minimum_nights', 'maximum_nights', 'is_business_travel_ready', 'cancellation_policy', 'require_guest_profile_picture','require_guest_phone_verification']\n",
    "listing = listings[att_columns]\n",
    "create_csv(listing, \"Listing_cond.csv\")"
   ]
  },
  {
   "cell_type": "code",
   "execution_count": null,
   "metadata": {},
   "outputs": [],
   "source": [
    "create_csv(users, \"Airbnb_user.csv\")"
   ]
  },
  {
   "cell_type": "code",
   "execution_count": null,
   "metadata": {},
   "outputs": [],
   "source": [
    "att_columns = ['user_id', 'host_url', 'host_since', 'host_about', 'host_response_time', 'host_response_rate','host_thumbnail_url','host_picture_url','host_neighbourhood']\n",
    "listing = listings[att_columns]\n",
    "listing = listing.set_index('user_id')\n",
    "listing = listing[~listing.index.duplicated(keep='first')]\n",
    "create_csv(listing, \"Host.csv\", { concat_str: ['host_about']})"
   ]
  },
  {
   "cell_type": "code",
   "execution_count": null,
   "metadata": {},
   "outputs": [],
   "source": [
    "att_columns = ['listing_id', 'user_id', 'date', 'comments']\n",
    "review = reviews[att_columns]\n",
    "create_csv(review,\"Review.csv\")"
   ]
  }
 ],
 "metadata": {
  "kernelspec": {
   "display_name": "Python 3",
   "language": "python",
   "name": "python3"
  },
  "language_info": {
   "codemirror_mode": {
    "name": "ipython",
    "version": 3
   },
   "file_extension": ".py",
   "mimetype": "text/x-python",
   "name": "python",
   "nbconvert_exporter": "python",
   "pygments_lexer": "ipython3",
   "version": "3.6.5"
  }
 },
 "nbformat": 4,
 "nbformat_minor": 2
}
