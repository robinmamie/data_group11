{
 "cells": [
  {
   "cell_type": "code",
   "execution_count": 10,
   "metadata": {},
   "outputs": [],
   "source": [
    "import pandas as pd"
   ]
  },
  {
   "cell_type": "code",
   "execution_count": 6,
   "metadata": {},
   "outputs": [],
   "source": [
    "def length(x):\n",
    "    y = str(x)\n",
    "    return len(y)"
   ]
  },
  {
   "cell_type": "code",
   "execution_count": 26,
   "metadata": {},
   "outputs": [],
   "source": [
    "display = True"
   ]
  },
  {
   "cell_type": "code",
   "execution_count": 27,
   "metadata": {},
   "outputs": [
    {
     "name": "stdout",
     "output_type": "stream",
     "text": [
      "2725 - AB Gracia 5 bedroom apartment with Terrace - Homely Five-Bedroom Apartment with Private Terrace just steps from Gaudi´s Casa Vicens\n",
      "https://www.airbnb.com/rooms/26033978\n",
      "My name is Alex, I serve as an architect and my apartment is designed by me which I offer you to enjoy during your stay in Barcelona. It is located in the heart of the most eccentric neighborhood of Gràcia on a semi-pedestrian and quiet street.Apartment is bright and modern, it´s high ceilings and materials I used (stone walls, wooden beams) merge in a modern and contemporary design, creating a warm and welcoming ambiance. There are two bedrooms (double and twin) and enough space for 4 people. Kitchen and bathroom are fully equipped with everything you may need.It is perfect for business trips or vacations with a family. In walking distance you´ve Gaudi´s masterpieces as La Pedrera and Casa Batlló, Tourist Bus stop, a subway stop Diagonal (L5-L3) and many options to go to the Beach, Sagrada Familia or Parc Guell. General info: The Owners do not accept guests under 25 years. IT´S A 3rd FLOOR WITHOUT AN ELEVATOR. Tourist license number HUTB-004315; Bed linen and towels are provided free \n"
     ]
    }
   ],
   "source": [
    "names = [df.name,df.listing_url,df.summary]\n",
    "listings = ['barcelona_listings.csv']\n",
    "res = []\n",
    "for listing in listings:\n",
    "    for name in names:\n",
    "        df = pd.read_csv(listing)\n",
    "        saved_column = name\n",
    "        if (display):\n",
    "            print(max(saved_column, key=length))\n",
    "        res.append((len(max(saved_column, key=length))))"
   ]
  },
  {
   "cell_type": "code",
   "execution_count": 25,
   "metadata": {},
   "outputs": [
    {
     "name": "stdout",
     "output_type": "stream",
     "text": [
      "[138, 37, 1000]\n"
     ]
    }
   ],
   "source": [
    "print(res)"
   ]
  }
 ],
 "metadata": {
  "kernelspec": {
   "display_name": "Python 3",
   "language": "python",
   "name": "python3"
  },
  "language_info": {
   "codemirror_mode": {
    "name": "ipython",
    "version": 3
   },
   "file_extension": ".py",
   "mimetype": "text/x-python",
   "name": "python",
   "nbconvert_exporter": "python",
   "pygments_lexer": "ipython3",
   "version": "3.6.5"
  }
 },
 "nbformat": 4,
 "nbformat_minor": 2
}
