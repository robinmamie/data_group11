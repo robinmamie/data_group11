{
 "cells": [
  {
   "cell_type": "code",
   "execution_count": 2,
   "metadata": {},
   "outputs": [],
   "source": [
    "import pandas as pd\n",
    "import numpy as np"
   ]
  },
  {
   "cell_type": "code",
   "execution_count": 3,
   "metadata": {},
   "outputs": [],
   "source": [
    "def length(x):\n",
    "    y = str(x)\n",
    "    return len(y)"
   ]
  },
  {
   "cell_type": "code",
   "execution_count": 12,
   "metadata": {},
   "outputs": [],
   "source": [
    "def find_lengths(listing, display=False): \n",
    "    res = []\n",
    "    df = pd.read_csv(listing)\n",
    "    for name in df.columns:\n",
    "        saved_column = getattr(df, name)\n",
    "        if type(saved_column[2]) is str:\n",
    "            if (display):\n",
    "                print(name, \" : \", max(saved_column, key=length))\n",
    "            res.append((name, saved_column.count() ,(len(max(saved_column, key=length)))))\n",
    "        \n",
    "    return res"
   ]
  },
  {
   "cell_type": "code",
   "execution_count": 13,
   "metadata": {},
   "outputs": [],
   "source": [
    "res = []\n",
    "listings= ['barcelona_listings.csv',\n",
    "          'madrid_listings_filtered.csv',\n",
    "          'berlin_listings_filtered.csv']\n",
    "\n",
    "\n",
    "for listing in listings:\n",
    "    lengths = find_lengths(listing, False)\n",
    "    res.append(lengths)"
   ]
  },
  {
   "cell_type": "code",
   "execution_count": 32,
   "metadata": {},
   "outputs": [],
   "source": [
    "lengths_dict = {}\n",
    "\n",
    "for tab in res:\n",
    "    for (name, count, length) in tab:\n",
    "        actual_length , actual_count = lengths_dict.get(name, (0,-1))\n",
    "        lengths_dict[name] = (max(actual_length, length), actual_count + count)\n",
    "        \n",
    "line_numbers = (max([v for (k,v) in lengths_dict.values()]))\n",
    "\n",
    "for key in lengths_dict.keys():\n",
    "    actual_length , actual_count = lengths_dict.get(key, (0,0))\n",
    "    lengths_dict[key] = (actual_length, actual_count / line_numbers)"
   ]
  },
  {
   "cell_type": "code",
   "execution_count": 36,
   "metadata": {},
   "outputs": [
    {
     "name": "stdout",
     "output_type": "stream",
     "text": [
      "listing_url length :  37  ;   100.00 % of the lines\n",
      "name length :  138  ;   99.86 % of the lines\n",
      "summary length :  1000  ;   96.32 % of the lines\n",
      "space length :  1000  ;   70.09 % of the lines\n",
      "description length :  1000  ;   99.21 % of the lines\n",
      "neighborhood_overview length :  1000  ;   60.55 % of the lines\n",
      "notes length :  1000  ;   44.17 % of the lines\n",
      "transit length :  1000  ;   61.34 % of the lines\n",
      "access length :  1000  ;   54.87 % of the lines\n",
      "interaction length :  1000  ;   53.33 % of the lines\n",
      "house_rules length :  1000  ;   60.19 % of the lines\n",
      "picture_url length :  116  ;   100.00 % of the lines\n",
      "host_url length :  43  ;   100.00 % of the lines\n",
      "host_name length :  35  ;   100.00 % of the lines\n",
      "host_since length :  10  ;   100.00 % of the lines\n",
      "host_about length :  12774  ;   59.47 % of the lines\n",
      "host_response_time length :  18  ;   57.44 % of the lines\n",
      "host_response_rate length :  4  ;   57.44 % of the lines\n",
      "host_thumbnail_url length :  106  ;   100.00 % of the lines\n",
      "host_picture_url length :  109  ;   100.00 % of the lines\n",
      "host_neighbourhood length :  31  ;   100.00 % of the lines\n",
      "host_verifications length :  168  ;   100.00 % of the lines\n",
      "neighbourhood length :  31  ;   100.00 % of the lines\n",
      "city length :  34  ;   99.99 % of the lines\n",
      "country_code length :  2  ;   100.00 % of the lines\n",
      "country length :  7  ;   100.00 % of the lines\n",
      "property_type length :  22  ;   100.00 % of the lines\n",
      "room_type length :  15  ;   100.00 % of the lines\n",
      "bed_type length :  13  ;   100.00 % of the lines\n",
      "amenities length :  1388  ;   100.00 % of the lines\n",
      "price length :  10  ;   100.00 % of the lines\n",
      "security_deposit length :  9  ;   67.70 % of the lines\n",
      "extra_people length :  7  ;   100.00 % of the lines\n",
      "is_business_travel_ready length :  1  ;   100.00 % of the lines\n",
      "cancellation_policy length :  27  ;   100.00 % of the lines\n",
      "require_guest_profile_picture length :  1  ;   100.00 % of the lines\n",
      "require_guest_phone_verification length :  1  ;   100.00 % of the lines\n",
      "weekly_price length :  9  ;   11.03 % of the lines\n",
      "monthly_price length :  10  ;   8.99 % of the lines\n",
      "cleaning_fee length :  7  ;   50.45 % of the lines\n"
     ]
    }
   ],
   "source": [
    "for key in lengths_dict.keys():\n",
    "    actual_length , actual_count = lengths_dict.get(key, (0,0))\n",
    "    print(key, \"|   length : \", actual_length, \" ;  \",\"%.2f\" % (actual_count*100), \"%\")\n"
   ]
  }
 ],
 "metadata": {
  "kernelspec": {
   "display_name": "Python 3",
   "language": "python",
   "name": "python3"
  },
  "language_info": {
   "codemirror_mode": {
    "name": "ipython",
    "version": 3
   },
   "file_extension": ".py",
   "mimetype": "text/x-python",
   "name": "python",
   "nbconvert_exporter": "python",
   "pygments_lexer": "ipython3",
   "version": "3.6.5"
  }
 },
 "nbformat": 4,
 "nbformat_minor": 2
}
