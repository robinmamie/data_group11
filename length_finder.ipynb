{
 "cells": [
  {
   "cell_type": "code",
   "execution_count": 7,
   "metadata": {},
   "outputs": [],
   "source": [
    "import pandas as pd\n",
    "import numpy as np"
   ]
  },
  {
   "cell_type": "code",
   "execution_count": 8,
   "metadata": {},
   "outputs": [],
   "source": [
    "def length(x):\n",
    "    y = str(x)\n",
    "    return len(y)"
   ]
  },
  {
   "cell_type": "code",
   "execution_count": 9,
   "metadata": {},
   "outputs": [],
   "source": [
    "def find_lengths(listing, display=False): \n",
    "    res = []\n",
    "    df = pd.read_csv(listing)\n",
    "    for name in df.columns:\n",
    "        saved_column = getattr(df, name)\n",
    "        if type(saved_column[2]) is str:\n",
    "            if (display):\n",
    "                print(name, \" : \", max(saved_column, key=length))\n",
    "            res.append((name,(len(max(saved_column, key=length)))))\n",
    "        \n",
    "    return res"
   ]
  },
  {
   "cell_type": "code",
   "execution_count": 10,
   "metadata": {},
   "outputs": [],
   "source": [
    "res = []\n",
    "listings= ['barcelona_listings.csv',\n",
    "          'madrid_listings_filtered.csv',\n",
    "          'berlin_listings_filtered.csv']\n",
    "\n",
    "\n",
    "for listing in listings:\n",
    "    bar_lengths = find_lengths(listing)\n",
    "    lengths = find_lengths(listing, False)\n",
    "    res.append(lengths)"
   ]
  },
  {
   "cell_type": "code",
   "execution_count": 11,
   "metadata": {},
   "outputs": [],
   "source": [
    "lengths_dict = {}\n",
    "for tab in res:\n",
    "    for (name, length) in tab:\n",
    "        lengths_dict[name] = max(lengths_dict.get(name, -1), length)"
   ]
  },
  {
   "cell_type": "code",
   "execution_count": 12,
   "metadata": {},
   "outputs": [
    {
     "name": "stdout",
     "output_type": "stream",
     "text": [
      "{'access': 1000,\n",
      " 'amenities': 1388,\n",
      " 'bed_type': 13,\n",
      " 'cancellation_policy': 27,\n",
      " 'city': 34,\n",
      " 'cleaning_fee': 7,\n",
      " 'country': 7,\n",
      " 'country_code': 2,\n",
      " 'description': 1000,\n",
      " 'extra_people': 7,\n",
      " 'host_about': 12774,\n",
      " 'host_name': 35,\n",
      " 'host_neighbourhood': 31,\n",
      " 'host_picture_url': 109,\n",
      " 'host_response_rate': 4,\n",
      " 'host_response_time': 18,\n",
      " 'host_since': 10,\n",
      " 'host_thumbnail_url': 106,\n",
      " 'host_url': 43,\n",
      " 'host_verifications': 168,\n",
      " 'house_rules': 1000,\n",
      " 'interaction': 1000,\n",
      " 'is_business_travel_ready': 1,\n",
      " 'listing_url': 37,\n",
      " 'monthly_price': 10,\n",
      " 'name': 138,\n",
      " 'neighborhood_overview': 1000,\n",
      " 'neighbourhood': 31,\n",
      " 'notes': 1000,\n",
      " 'picture_url': 116,\n",
      " 'price': 10,\n",
      " 'property_type': 22,\n",
      " 'require_guest_phone_verification': 1,\n",
      " 'require_guest_profile_picture': 1,\n",
      " 'room_type': 15,\n",
      " 'security_deposit': 9,\n",
      " 'space': 1000,\n",
      " 'summary': 1000,\n",
      " 'transit': 1000,\n",
      " 'weekly_price': 9}\n"
     ]
    }
   ],
   "source": [
    "from pprint import pprint; \n",
    "pprint(lengths_dict)"
   ]
  }
 ],
 "metadata": {
  "kernelspec": {
   "display_name": "Python 3",
   "language": "python",
   "name": "python3"
  },
  "language_info": {
   "codemirror_mode": {
    "name": "ipython",
    "version": 3
   },
   "file_extension": ".py",
   "mimetype": "text/x-python",
   "name": "python",
   "nbconvert_exporter": "python",
   "pygments_lexer": "ipython3",
   "version": "3.6.5"
  }
 },
 "nbformat": 4,
 "nbformat_minor": 2
}
