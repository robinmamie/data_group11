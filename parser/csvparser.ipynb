{
 "cells": [
  {
   "cell_type": "markdown",
   "metadata": {},
   "source": [
    "## Imports"
   ]
  },
  {
   "cell_type": "code",
   "execution_count": 1,
   "metadata": {},
   "outputs": [],
   "source": [
    "import pandas as pd\n",
    "import numpy as np\n",
    "from datetime import datetime"
   ]
  },
  {
   "cell_type": "code",
   "execution_count": 2,
   "metadata": {},
   "outputs": [],
   "source": [
    "def create_csv(data_frame, file_name, rules = {}):\n",
    "    for  rule,attributes in rules.items():\n",
    "        for attribute in attributes:\n",
    "            data_frame[attribute] = data_frame[attribute].map(rule)\n",
    "    data_frame.to_csv(\"Csv_to_database/\"+file_name, line_terminator='\\r')"
   ]
  },
  {
   "cell_type": "markdown",
   "metadata": {},
   "source": [
    "## Creating principal Dataframes"
   ]
  },
  {
   "cell_type": "code",
   "execution_count": 3,
   "metadata": {},
   "outputs": [],
   "source": [
    "def concat_file(files):\n",
    "    lfs = []\n",
    "    for path in files:\n",
    "        dataframe = pd.read_csv(\"Data/\"+path, skipinitialspace=True)\n",
    "        if \"listing\" in path :\n",
    "            city_name = path.split('_')[0].capitalize()\n",
    "            dataframe['city'] = city_name\n",
    "        lfs.append(dataframe)\n",
    "    return pd.concat(lfs)"
   ]
  },
  {
   "cell_type": "code",
   "execution_count": 4,
   "metadata": {},
   "outputs": [],
   "source": [
    "listingsFiles = [\"barcelona_listings.csv\",\"berlin_listings_filtered.csv\",\"madrid_listings_filtered.csv\"]\n",
    "listings = concat_file(listingsFiles).set_index('id')\n",
    "listings.fillna('', inplace=True)\n"
   ]
  },
  {
   "cell_type": "code",
   "execution_count": 5,
   "metadata": {},
   "outputs": [],
   "source": [
    "calendarFiles = [\"barcelona_calendar.csv\",\"berlin_calendar.csv\",\"madrid_calendar.csv\"]\n",
    "calendars = concat_file(calendarFiles).set_index('listing_id')"
   ]
  },
  {
   "cell_type": "code",
   "execution_count": 6,
   "metadata": {},
   "outputs": [],
   "source": [
    "reviewsFiles = [\"barcelona_reviews.csv\",\"berlin_reviews.csv\",\"madrid_reviews.csv\"]\n",
    "reviews = concat_file(reviewsFiles).set_index('id')"
   ]
  },
  {
   "cell_type": "markdown",
   "metadata": {},
   "source": [
    "## Normalize columns\n",
    "Please run once this part otherwise the result will be wrong"
   ]
  },
  {
   "cell_type": "code",
   "execution_count": 7,
   "metadata": {},
   "outputs": [],
   "source": [
    "def get_id(attribute):\n",
    "    \n",
    "    words = attribute.split('_')\n",
    "    letters = [word[0] for word in words]\n",
    "    return (\"\".join(letters).lower())+'id'"
   ]
  },
  {
   "cell_type": "code",
   "execution_count": 8,
   "metadata": {},
   "outputs": [],
   "source": [
    "def find_normal_values(dataframe, attribute=''):\n",
    "    if attribute != '':\n",
    "        df = dataframe[attribute]\n",
    "    else:\n",
    "        df = dataframe\n",
    "    df = df.drop_duplicates()\n",
    "    df = df.dropna()\n",
    "    df.index = range(len(df))\n",
    "    values = df.to_dict()\n",
    "    values = {v: k for k, v in values.items()}\n",
    "    df = df.to_frame()\n",
    "    if attribute != '':\n",
    "        df = df.rename_axis(get_id(attribute))\n",
    "    return values, df"
   ]
  },
  {
   "cell_type": "code",
   "execution_count": 9,
   "metadata": {},
   "outputs": [],
   "source": [
    "def normalize_value(val, normalized_values):\n",
    "    if (val == ''):\n",
    "        return val\n",
    "    return normalized_values[val]"
   ]
  },
  {
   "cell_type": "code",
   "execution_count": 10,
   "metadata": {},
   "outputs": [],
   "source": [
    "def create_normalized_value(dataframe, attribute):\n",
    "    normalized_values, normal_entity = find_normal_values(dataframe, attribute)\n",
    "    create_csv(normal_entity, attribute+\".csv\")\n",
    "    return dataframe[attribute].apply(normalize_value, normalized_values = normalized_values)    "
   ]
  },
  {
   "cell_type": "code",
   "execution_count": 11,
   "metadata": {},
   "outputs": [],
   "source": [
    "to_normalize_attributes = ['host_response_time','room_type', 'property_type',\n",
    "                           'bed_type', 'cancellation_policy', 'city']\n",
    "for att in to_normalize_attributes:\n",
    "    listings[att] = create_normalized_value(listings, att)"
   ]
  },
  {
   "cell_type": "code",
   "execution_count": 12,
   "metadata": {},
   "outputs": [
    {
     "name": "stdout",
     "output_type": "stream",
     "text": [
      "['city' 'country' 'country_code']\n"
     ]
    }
   ],
   "source": [
    "country_attributes = ['city', 'country', 'country_code']\n",
    "\n",
    "df = listings[country_attributes]\n",
    "df = df.drop_duplicates()\n",
    "df = df.dropna()\n",
    "df.index = range(len(df))\n",
    "values = df[df.columns[0]].to_dict()\n",
    "values = {v: k for k, v in values.items()}\n",
    "\n",
    "listings[country_attributes[0]] =listings[country_attributes[0]].apply(normalize_value, normalized_values = values) \n",
    "listings = listings.drop(columns=country_attributes[1:])\n",
    "\n",
    "print(df.columns.values)\n",
    "df2 = df[country_attributes[1:]]\n",
    "df2 = df2.drop_duplicates()\n",
    "df2 = df2.dropna()\n",
    "df2.index = range(len(df2))\n",
    "values = df2[df2.columns[0]].to_dict()\n",
    "values = {v: k for k, v in values.items()}\n",
    "create_csv(df2, country_attributes[1]+\".csv\")\n",
    "df[country_attributes[1]] =df[country_attributes[1]].apply(normalize_value, normalized_values = values) \n",
    "df = df.drop(columns=country_attributes[2:])\n",
    "create_csv(df, country_attributes[0]+\".csv\")\n"
   ]
  },
  {
   "cell_type": "code",
   "execution_count": 13,
   "metadata": {
    "scrolled": true
   },
   "outputs": [],
   "source": [
    "#neighs = pd.concat([listings['neighbourhood','city'],listings['host_neighbourhood','city'].rename(columns={\n",
    "#    'host_neighbourhood':'neighbourhood'})])\n",
    "neighbourhoods = ['neighbourhood', 'city']\n",
    "\n",
    "df = listings[neighbourhoods]\n",
    "df = df.drop_duplicates()\n",
    "df = df.dropna()\n",
    "df.index = range(len(df))\n",
    "values = df[df.columns[0]].to_dict()\n",
    "values = {v: k for k, v in values.items()}\n",
    "listings[neighbourhoods[0]] =listings[neighbourhoods[0]].apply(normalize_value, normalized_values = values) \n",
    "listings['host_neighbourhood'] = listings['host_neighbourhood'].apply(normalize_value, normalized_values = values)\n",
    "listings = listings.drop(columns=neighbourhoods[1:])\n",
    "\n",
    "#normalized_values, normal_entity = find_normal_values(neighbourhoods)\n",
    "#create_csv(df, \"neighbourhood.csv\")\n",
    "\n",
    "#listings['neighbourhood'] = listings['neighbourhood'].apply(normalize_value, normalized_values = normalized_values)\n",
    "#listings['host_neighbourhood'] = listings['host_neighbourhood'].apply(normalize_value, normalized_values = normalized_values)"
   ]
  },
  {
   "cell_type": "code",
   "execution_count": 14,
   "metadata": {},
   "outputs": [],
   "source": [
    "create_csv(df, \"neighbourhood.csv\")"
   ]
  },
  {
   "cell_type": "code",
   "execution_count": 15,
   "metadata": {},
   "outputs": [
    {
     "data": {
      "text/plain": [
       "False"
      ]
     },
     "execution_count": 15,
     "metadata": {},
     "output_type": "execute_result"
    }
   ],
   "source": [
    "\"El Camp de l'Arpa del Clot\" in listings['neighbourhood']"
   ]
  },
  {
   "cell_type": "code",
   "execution_count": 16,
   "metadata": {},
   "outputs": [
    {
     "name": "stdout",
     "output_type": "stream",
     "text": [
      "                       neighbourhood  city\n",
      "0         El Camp de l'Arpa del Clot     0\n",
      "1                 La Sagrada Família     0\n",
      "2                        El Poblenou     0\n",
      "3                     Vila de Gràcia     0\n",
      "4                   El Baix Guinardó     0\n",
      "5     La Nova Esquerra de l'Eixample     0\n",
      "6    Camp d'en Grassot i Gràcia Nova     0\n",
      "7                Dreta de l'Eixample     0\n",
      "8                           El Gòtic     0\n",
      "9    L'Antiga Esquerra de l'Eixample     0\n",
      "10                    La Barceloneta     0\n",
      "11          Sant Pere/Santa Caterina     0\n",
      "12                      El Poble-sec     0\n",
      "13                     el Fort Pienc     0\n",
      "14                           El Born     0\n",
      "15                          El Raval     0\n",
      "16       Diagonal Mar - La Mar Bella     0\n",
      "17         Vallcarca i els Penitents     0\n",
      "18                    Sants-Montjuïc     0\n",
      "19                       Sant Antoni     0\n",
      "20                           El Clot     0\n",
      "21                         Pedralbes     0\n",
      "22                          Guinardó     0\n",
      "23            Sant Andreu de Palomar     0\n",
      "24           Provençals del Poblenou     0\n",
      "25                             Horta     0\n",
      "26             El Besòs i el Maresme     0\n",
      "27                          La Salut     0\n",
      "28            Sant Gervasi - Galvany     0\n",
      "29          Sant Martí de Provençals     0\n",
      "..                               ...   ...\n",
      "194                        Moratalaz     2\n",
      "195                        Jerónimos     2\n",
      "196                         Chamberí     2\n",
      "197                         Delicias     2\n",
      "198                       Gaztambide     2\n",
      "199                     Vallehermosa     2\n",
      "200                            Ibiza     2\n",
      "201                Villa de Vallecas     2\n",
      "202                       Rios Rosas     2\n",
      "203                          Barajas     2\n",
      "204                       Guindalera     2\n",
      "205                            Usera     2\n",
      "206                           Retiro     2\n",
      "207                       Castellana     2\n",
      "208                       Berruguete     2\n",
      "209               Puente de Vallecas     2\n",
      "210                           Centro     2\n",
      "211                       Arganzuela     2\n",
      "212                          Adelfas     2\n",
      "213                      Castillejos     2\n",
      "214                         Imperial     2\n",
      "215                           Tetuán     2\n",
      "216                          Moncloa     2\n",
      "217                         Castilla     2\n",
      "218                     Nueva España     2\n",
      "219                        Vicálvaro     2\n",
      "220                       La Chopera     2\n",
      "221                    Bellas Vistas     2\n",
      "222                           Atocha     2\n",
      "223                        Salamanca     2\n",
      "\n",
      "[224 rows x 2 columns]\n",
      "   country country_code\n",
      "0    Spain           ES\n",
      "1  Germany           DE\n"
     ]
    }
   ],
   "source": [
    "print(df)\n",
    "print(df2)"
   ]
  },
  {
   "cell_type": "code",
   "execution_count": 17,
   "metadata": {},
   "outputs": [],
   "source": [
    "def create_list(df, attribute):\n",
    "    lst = df[attribute].apply(lambda x: x[1:-1].replace('\"',\"\").replace(\"'\",\"\").split(','))\n",
    "    lst = lst.apply(lambda x : [y.strip(' ') for y in x])\n",
    "    dct = lst.to_dict()\n",
    "    tuples = []\n",
    "    for key, values in dct.items():\n",
    "        for value in values:\n",
    "            tuples.append((key,value))\n",
    "\n",
    "    dft = pd.DataFrame(tuples, columns=['listing_id',attribute])\n",
    "    dft = dft.set_index('listing_id')\n",
    "    dft = create_normalized_value(dft, attribute)\n",
    "    \n",
    "    dft = dft.to_frame()\n",
    "\n",
    "    dft.to_csv(\"Csv_to_database/has_\"+attribute+\".csv\")"
   ]
  },
  {
   "cell_type": "code",
   "execution_count": 18,
   "metadata": {},
   "outputs": [],
   "source": [
    "create_list(listings,'amenities')\n",
    "listings = listings.drop(columns=['amenities'])\n",
    "create_list(listings,'host_verifications')\n",
    "listings = listings.drop(columns=['host_verifications'])"
   ]
  },
  {
   "cell_type": "code",
   "execution_count": 19,
   "metadata": {},
   "outputs": [],
   "source": [
    "def concat_str(val, size = 3000):\n",
    "    if (val == ''):\n",
    "        return val\n",
    "    return str(val)[:size]"
   ]
  },
  {
   "cell_type": "code",
   "execution_count": 20,
   "metadata": {},
   "outputs": [],
   "source": [
    "def convert_currency(val):\n",
    "    if (val == ''):\n",
    "        return val\n",
    "    new_val =  str(val).replace(',','').replace('$', '')\n",
    "    return float(new_val)"
   ]
  },
  {
   "cell_type": "code",
   "execution_count": 21,
   "metadata": {},
   "outputs": [],
   "source": [
    "def convert_percentage(val):\n",
    "    if (val == ''):\n",
    "        return val\n",
    "    new_val =  str(val).replace('%','')\n",
    "    return int(new_val)"
   ]
  },
  {
   "cell_type": "code",
   "execution_count": 22,
   "metadata": {},
   "outputs": [],
   "source": [
    "def apply_conversion(dataframe, attributes, function):\n",
    "    for att in attributes:\n",
    "        dataframe[att] = dataframe[att].apply(function)\n",
    "    return dataframe"
   ]
  },
  {
   "cell_type": "code",
   "execution_count": 23,
   "metadata": {},
   "outputs": [],
   "source": [
    "listings['host_since'] = listings['host_since'].astype('datetime64[ns]')"
   ]
  },
  {
   "cell_type": "code",
   "execution_count": 24,
   "metadata": {},
   "outputs": [],
   "source": [
    "listings['host_response_rate'] = listings['host_response_rate'].apply(convert_percentage)"
   ]
  },
  {
   "cell_type": "code",
   "execution_count": 25,
   "metadata": {},
   "outputs": [],
   "source": [
    "prices = ['price', 'weekly_price', 'monthly_price', 'security_deposit', 'cleaning_fee','extra_people']\n",
    "for att in prices:\n",
    "    listings[att] = listings[att].apply(convert_currency)"
   ]
  },
  {
   "cell_type": "code",
   "execution_count": 26,
   "metadata": {},
   "outputs": [],
   "source": [
    "descriptions = ['summary', 'space', 'neighborhood_overview', 'description', 'notes', 'transit', 'access','interaction','house_rules']\n",
    "for att in descriptions:\n",
    "    listings[att] = listings[att].apply(concat_str, size = 500)"
   ]
  },
  {
   "cell_type": "code",
   "execution_count": 27,
   "metadata": {},
   "outputs": [],
   "source": [
    "listings['host_about'] = listings['host_about'].apply(concat_str)"
   ]
  },
  {
   "cell_type": "code",
   "execution_count": 28,
   "metadata": {},
   "outputs": [],
   "source": [
    "#users = []\n",
    "#users.append(reviews[['user_id', 'user_name']])\n",
    "#users.append(listings[['user_id', 'user_name']])\n",
    "#hosts = listings[['host_id', 'host_name']]\n",
    "#users = pd.concat(users).drop_duplicates()\n",
    "#hosts = hosts.set_index('host_id')"
   ]
  },
  {
   "cell_type": "code",
   "execution_count": 29,
   "metadata": {},
   "outputs": [],
   "source": [
    "#create_csv(hosts, \"Host.csv\")\n",
    "#listings = listings.drop(columns=['user_name'])"
   ]
  },
  {
   "cell_type": "code",
   "execution_count": 30,
   "metadata": {},
   "outputs": [],
   "source": [
    "host_columns = ['host_id', 'host_name', 'host_url', 'host_since', 'host_about', 'host_response_time',\n",
    "                'host_response_rate','host_thumbnail_url','host_picture_url',\n",
    "                'host_neighbourhood']\n",
    "host = listings[host_columns]\n",
    "host = host.set_index('host_id')\n",
    "host = host[~host.index.duplicated(keep='first')]\n",
    "create_csv(host, \"host.csv\", { concat_str: ['host_about']})\n",
    "listings = listings.drop(columns=host_columns[1:])"
   ]
  },
  {
   "cell_type": "code",
   "execution_count": 31,
   "metadata": {},
   "outputs": [],
   "source": [
    "create_csv(listings,\"listing.csv\")"
   ]
  },
  {
   "cell_type": "markdown",
   "metadata": {},
   "source": [
    "## Calendar"
   ]
  },
  {
   "cell_type": "code",
   "execution_count": 32,
   "metadata": {},
   "outputs": [],
   "source": [
    "att_columns = ['date', 'available', 'price']\n",
    "# Selects columns from listings which appears in att_columns \n",
    "calendar = calendars[att_columns]\n",
    "calendar['price'] = calendar['price'].apply(convert_currency)\n",
    "#calendar.dropna(inplace=True)\n",
    "calendar['date'] = calendar['date'].astype('datetime64[ns]')\n",
    "calendar['price'] = calendar['price'].apply(convert_currency)\n",
    "create_csv(calendar, \"calendar.csv\")"
   ]
  },
  {
   "cell_type": "code",
   "execution_count": 33,
   "metadata": {},
   "outputs": [
    {
     "name": "stdout",
     "output_type": "stream",
     "text": [
      "15364310\n"
     ]
    }
   ],
   "source": [
    "print(len(calendar))"
   ]
  },
  {
   "cell_type": "markdown",
   "metadata": {},
   "source": [
    "## Reviews"
   ]
  },
  {
   "cell_type": "code",
   "execution_count": 34,
   "metadata": {},
   "outputs": [],
   "source": [
    "att_columns = ['listing_id', 'reviewer_id', 'reviewer_name', 'date', 'comments']\n",
    "reviews['date'] = reviews['date'].astype('datetime64[ns]')\n",
    "reviews['comments'] = reviews['comments'].apply(concat_str, size = 1000)\n",
    "review = reviews[att_columns]\n",
    "create_csv(review,\"Review.csv\")"
   ]
  },
  {
   "cell_type": "markdown",
   "metadata": {},
   "source": [
    "## Test\n"
   ]
  },
  {
   "cell_type": "code",
   "execution_count": 35,
   "metadata": {},
   "outputs": [
    {
     "name": "stdout",
     "output_type": "stream",
     "text": [
      "42094 42094\n"
     ]
    }
   ],
   "source": [
    "A = listings.index.values\n",
    "B = calendar[~calendar.index.duplicated(keep='first')]\n",
    "B = B.index.values\n",
    "print(len(np.intersect1d(A,B)) , len(B))"
   ]
  },
  {
   "cell_type": "code",
   "execution_count": 36,
   "metadata": {},
   "outputs": [
    {
     "name": "stdout",
     "output_type": "stream",
     "text": [
      "35012 35012\n"
     ]
    }
   ],
   "source": [
    "A = listings.index.values\n",
    "B = reviews.set_index('listing_id')\n",
    "B = B[~B.index.duplicated(keep='first')]\n",
    "B = B.index.values\n",
    "print(len(np.intersect1d(A,B)) , len(B))"
   ]
  },
  {
   "cell_type": "code",
   "execution_count": 37,
   "metadata": {},
   "outputs": [],
   "source": [
    "def Repeat(x): \n",
    "    _size = len(x) \n",
    "    repeated = [] \n",
    "    for i in range(_size): \n",
    "        k = i + 1\n",
    "        for j in range(k, _size): \n",
    "            if x[i] == x[j] and x[i] not in repeated: \n",
    "                repeated.append(x[i]) \n",
    "    return repeated "
   ]
  },
  {
   "cell_type": "code",
   "execution_count": 38,
   "metadata": {},
   "outputs": [],
   "source": [
    "#print(Repeat(users.index.values))"
   ]
  },
  {
   "cell_type": "code",
   "execution_count": 39,
   "metadata": {},
   "outputs": [
    {
     "name": "stdout",
     "output_type": "stream",
     "text": [
      "500\n"
     ]
    }
   ],
   "source": [
    "maxi = -1\n",
    "for elem in listings['description']:\n",
    "    if (elem != ''):\n",
    "        if (len(elem) > maxi):\n",
    "            maxi = len(elem)\n",
    "print(maxi)"
   ]
  }
 ],
 "metadata": {
  "kernelspec": {
   "display_name": "Python 3",
   "language": "python",
   "name": "python3"
  },
  "language_info": {
   "codemirror_mode": {
    "name": "ipython",
    "version": 3
   },
   "file_extension": ".py",
   "mimetype": "text/x-python",
   "name": "python",
   "nbconvert_exporter": "python",
   "pygments_lexer": "ipython3",
   "version": "3.6.5"
  }
 },
 "nbformat": 4,
 "nbformat_minor": 2
}
